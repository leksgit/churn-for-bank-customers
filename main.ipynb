{
 "cells": [
  {
   "cell_type": "code",
   "execution_count": 1,
   "metadata": {},
   "outputs": [
    {
     "data": {
      "text/html": [
       "<div>\n",
       "<style scoped>\n",
       "    .dataframe tbody tr th:only-of-type {\n",
       "        vertical-align: middle;\n",
       "    }\n",
       "\n",
       "    .dataframe tbody tr th {\n",
       "        vertical-align: top;\n",
       "    }\n",
       "\n",
       "    .dataframe thead th {\n",
       "        text-align: right;\n",
       "    }\n",
       "</style>\n",
       "<table border=\"1\" class=\"dataframe\">\n",
       "  <thead>\n",
       "    <tr style=\"text-align: right;\">\n",
       "      <th></th>\n",
       "      <th>RowNumber</th>\n",
       "      <th>CustomerId</th>\n",
       "      <th>Surname</th>\n",
       "      <th>CreditScore</th>\n",
       "      <th>Geography</th>\n",
       "      <th>Gender</th>\n",
       "      <th>Age</th>\n",
       "      <th>Tenure</th>\n",
       "      <th>Balance</th>\n",
       "      <th>NumOfProducts</th>\n",
       "      <th>HasCrCard</th>\n",
       "      <th>IsActiveMember</th>\n",
       "      <th>EstimatedSalary</th>\n",
       "      <th>Exited</th>\n",
       "    </tr>\n",
       "  </thead>\n",
       "  <tbody>\n",
       "    <tr>\n",
       "      <th>0</th>\n",
       "      <td>1</td>\n",
       "      <td>15634602</td>\n",
       "      <td>Hargrave</td>\n",
       "      <td>619</td>\n",
       "      <td>France</td>\n",
       "      <td>Female</td>\n",
       "      <td>42</td>\n",
       "      <td>2</td>\n",
       "      <td>0.00</td>\n",
       "      <td>1</td>\n",
       "      <td>1</td>\n",
       "      <td>1</td>\n",
       "      <td>101348.88</td>\n",
       "      <td>1</td>\n",
       "    </tr>\n",
       "    <tr>\n",
       "      <th>1</th>\n",
       "      <td>2</td>\n",
       "      <td>15647311</td>\n",
       "      <td>Hill</td>\n",
       "      <td>608</td>\n",
       "      <td>Spain</td>\n",
       "      <td>Female</td>\n",
       "      <td>41</td>\n",
       "      <td>1</td>\n",
       "      <td>83807.86</td>\n",
       "      <td>1</td>\n",
       "      <td>0</td>\n",
       "      <td>1</td>\n",
       "      <td>112542.58</td>\n",
       "      <td>0</td>\n",
       "    </tr>\n",
       "    <tr>\n",
       "      <th>2</th>\n",
       "      <td>3</td>\n",
       "      <td>15619304</td>\n",
       "      <td>Onio</td>\n",
       "      <td>502</td>\n",
       "      <td>France</td>\n",
       "      <td>Female</td>\n",
       "      <td>42</td>\n",
       "      <td>8</td>\n",
       "      <td>159660.80</td>\n",
       "      <td>3</td>\n",
       "      <td>1</td>\n",
       "      <td>0</td>\n",
       "      <td>113931.57</td>\n",
       "      <td>1</td>\n",
       "    </tr>\n",
       "    <tr>\n",
       "      <th>3</th>\n",
       "      <td>4</td>\n",
       "      <td>15701354</td>\n",
       "      <td>Boni</td>\n",
       "      <td>699</td>\n",
       "      <td>France</td>\n",
       "      <td>Female</td>\n",
       "      <td>39</td>\n",
       "      <td>1</td>\n",
       "      <td>0.00</td>\n",
       "      <td>2</td>\n",
       "      <td>0</td>\n",
       "      <td>0</td>\n",
       "      <td>93826.63</td>\n",
       "      <td>0</td>\n",
       "    </tr>\n",
       "    <tr>\n",
       "      <th>4</th>\n",
       "      <td>5</td>\n",
       "      <td>15737888</td>\n",
       "      <td>Mitchell</td>\n",
       "      <td>850</td>\n",
       "      <td>Spain</td>\n",
       "      <td>Female</td>\n",
       "      <td>43</td>\n",
       "      <td>2</td>\n",
       "      <td>125510.82</td>\n",
       "      <td>1</td>\n",
       "      <td>1</td>\n",
       "      <td>1</td>\n",
       "      <td>79084.10</td>\n",
       "      <td>0</td>\n",
       "    </tr>\n",
       "  </tbody>\n",
       "</table>\n",
       "</div>"
      ],
      "text/plain": [
       "   RowNumber  CustomerId   Surname  CreditScore Geography  Gender  Age  \\\n",
       "0          1    15634602  Hargrave          619    France  Female   42   \n",
       "1          2    15647311      Hill          608     Spain  Female   41   \n",
       "2          3    15619304      Onio          502    France  Female   42   \n",
       "3          4    15701354      Boni          699    France  Female   39   \n",
       "4          5    15737888  Mitchell          850     Spain  Female   43   \n",
       "\n",
       "   Tenure    Balance  NumOfProducts  HasCrCard  IsActiveMember  \\\n",
       "0       2       0.00              1          1               1   \n",
       "1       1   83807.86              1          0               1   \n",
       "2       8  159660.80              3          1               0   \n",
       "3       1       0.00              2          0               0   \n",
       "4       2  125510.82              1          1               1   \n",
       "\n",
       "   EstimatedSalary  Exited  \n",
       "0        101348.88       1  \n",
       "1        112542.58       0  \n",
       "2        113931.57       1  \n",
       "3         93826.63       0  \n",
       "4         79084.10       0  "
      ]
     },
     "execution_count": 1,
     "metadata": {},
     "output_type": "execute_result"
    }
   ],
   "source": [
    "import pandas as pd\n",
    "import plotly.graph_objects as go\n",
    "churn_data = pd.read_csv('data/churn.csv')\n",
    "churn_data.head()"
   ]
  },
  {
   "cell_type": "code",
   "execution_count": 4,
   "metadata": {},
   "outputs": [
    {
     "name": "stdout",
     "output_type": "stream",
     "text": [
      "<class 'pandas.core.frame.DataFrame'>\n",
      "RangeIndex: 10000 entries, 0 to 9999\n",
      "Data columns (total 14 columns):\n",
      " #   Column           Non-Null Count  Dtype  \n",
      "---  ------           --------------  -----  \n",
      " 0   RowNumber        10000 non-null  int64  \n",
      " 1   CustomerId       10000 non-null  int64  \n",
      " 2   Surname          10000 non-null  object \n",
      " 3   CreditScore      10000 non-null  int64  \n",
      " 4   Geography        10000 non-null  object \n",
      " 5   Gender           10000 non-null  object \n",
      " 6   Age              10000 non-null  int64  \n",
      " 7   Tenure           10000 non-null  int64  \n",
      " 8   Balance          10000 non-null  float64\n",
      " 9   NumOfProducts    10000 non-null  int64  \n",
      " 10  HasCrCard        10000 non-null  int64  \n",
      " 11  IsActiveMember   10000 non-null  int64  \n",
      " 12  EstimatedSalary  10000 non-null  float64\n",
      " 13  Exited           10000 non-null  int64  \n",
      "dtypes: float64(2), int64(9), object(3)\n",
      "memory usage: 1.1+ MB\n"
     ]
    }
   ],
   "source": [
    "churn_data.info()"
   ]
  },
  {
   "cell_type": "code",
   "execution_count": 5,
   "metadata": {},
   "outputs": [
    {
     "name": "stdout",
     "output_type": "stream",
     "text": [
      "<class 'pandas.core.frame.DataFrame'>\n",
      "RangeIndex: 10000 entries, 0 to 9999\n",
      "Data columns (total 14 columns):\n",
      " #   Column           Non-Null Count  Dtype   \n",
      "---  ------           --------------  -----   \n",
      " 0   RowNumber        10000 non-null  int64   \n",
      " 1   CustomerId       10000 non-null  int64   \n",
      " 2   Surname          10000 non-null  object  \n",
      " 3   CreditScore      10000 non-null  int64   \n",
      " 4   Geography        10000 non-null  category\n",
      " 5   Gender           10000 non-null  category\n",
      " 6   Age              10000 non-null  int64   \n",
      " 7   Tenure           10000 non-null  int64   \n",
      " 8   Balance          10000 non-null  float64 \n",
      " 9   NumOfProducts    10000 non-null  int64   \n",
      " 10  HasCrCard        10000 non-null  category\n",
      " 11  IsActiveMember   10000 non-null  category\n",
      " 12  EstimatedSalary  10000 non-null  float64 \n",
      " 13  Exited           10000 non-null  int64   \n",
      "dtypes: category(4), float64(2), int64(7), object(1)\n",
      "memory usage: 820.9+ KB\n"
     ]
    }
   ],
   "source": [
    "churn_data['Geography'] = churn_data['Geography'].astype('category')\n",
    "churn_data['Gender'] = churn_data['Gender'].astype('category')\n",
    "churn_data['HasCrCard'] = churn_data['HasCrCard'].astype('category')\n",
    "churn_data['IsActiveMember'] = churn_data['IsActiveMember'].astype('category')\n",
    "churn_data['IsActiveMember'] = churn_data['IsActiveMember'].apply(lambda x: 'Yes' if x ==1 else 'No')\n",
    "churn_data['HasCrCard'] = churn_data['HasCrCard'].apply(lambda x: 'Yes' if x ==1 else 'No')\n",
    "churn_data.info()"
   ]
  },
  {
   "cell_type": "markdown",
   "metadata": {},
   "source": [
    "1. Каково соотношение ушедших и лояльных клиентов?"
   ]
  },
  {
   "cell_type": "code",
   "execution_count": 2,
   "metadata": {},
   "outputs": [
    {
     "data": {
      "image/png": "[encoded data removed]"
     },
     "metadata": {},
     "output_type": "display_data"
    }
   ],
   "source": [
    "exited_compare = churn_data.groupby('Exited')['Exited'].count()\n",
    "fig = go.Figure(layout_title_text=\"Соотношение ушедших и лояльных клиентов\")\n",
    "fig.add_trace(go.Bar(y=exited_compare,x=('Активные','Ушедшие')))\n",
    "fig.show(\"png\")"
   ]
  },
  {
   "cell_type": "markdown",
   "metadata": {},
   "source": [
    "Ушедших пользователей в ~4 раза меньше чем активных (7963/2037) Потенциально уходит каждый 5 клиент"
   ]
  },
  {
   "cell_type": "markdown",
   "metadata": {},
   "source": [
    "2 Постройте график, показывающий распределение баланса пользователей, у которых на счету больше 2 500 долларов."
   ]
  },
  {
   "cell_type": "code",
   "execution_count": null,
   "metadata": {},
   "outputs": [],
   "source": [
    "over_2500_balans = churn_data[churn_data['Balance']>=2500]['Balance']\n",
    "\n",
    "fig = go.Figure()\n",
    "fig.add_trace(go.Histogram(x=over_2500_balans, ))\n",
    "fig.show()"
   ]
  },
  {
   "cell_type": "code",
   "execution_count": null,
   "metadata": {},
   "outputs": [],
   "source": [
    "over_2500_balans.describe()"
   ]
  },
  {
   "cell_type": "markdown",
   "metadata": {},
   "source": [
    "На счетах с балансом более 2500, в основном, хранится от 100 000 до 140 000 c нормальным распределением, без явных выбросов. Максимальная сумма - 250 000"
   ]
  },
  {
   "cell_type": "markdown",
   "metadata": {},
   "source": [
    "3. Посмотрите на распределение баланса клиента в разрезе признака оттока. Как различаются суммы на накопительном счёте ушедших и лояльных клиентов? Подумайте и напишите, с чем это может быть связано, что может не устраивать ушедших клиентов в банке."
   ]
  },
  {
   "cell_type": "code",
   "execution_count": null,
   "metadata": {},
   "outputs": [],
   "source": [
    "exited_balans = churn_data[churn_data['Exited']==1]['Balance']\n",
    "customer_balans  = churn_data[churn_data['Exited']==0]['Balance']\n",
    "\n",
    "fig = go.Figure(layout_title_text=\"Логарифмическое сравнение балансов 'активных' и 'ушедших' клиентов\")\n",
    "fig.add_trace(go.Histogram(x=exited_balans,name='Ушедшие', marker_color='#ff668c'))\n",
    "fig.add_trace(go.Histogram(x=customer_balans,name='Активные', marker_color='#6666ff'))\n",
    "fig.update_yaxes(type=\"log\", range=[0,4]) \n",
    "fig.show()\n"
   ]
  },
  {
   "cell_type": "markdown",
   "metadata": {},
   "source": [
    "Никаких особых отличий между балансами ушедших и активных клиентов нет, обе группы имеют нормальное распределение, наблюдается очень большое колиечество клиентов с нулевым балансом в обеих группах"
   ]
  },
  {
   "cell_type": "markdown",
   "metadata": {},
   "source": [
    "4. Посмотрите на распределение возраста в разрезе признака оттока. В какой группе больше потенциальных выбросов? На какую возрастную категорию клиентов стоит обратить внимание банку?"
   ]
  },
  {
   "cell_type": "code",
   "execution_count": null,
   "metadata": {},
   "outputs": [],
   "source": [
    "exited_Age = churn_data[churn_data['Exited']==1]['Age']\n",
    "customer_Age  = churn_data[churn_data['Exited']==0]['Age']\n",
    "\n",
    "fig = go.Figure(layout_title_text=\"Логарифмическое распределение пользователей по возрасту среди'активных' и 'ушедших' клиентов\")\n",
    "fig.add_trace(go.Histogram(x=exited_Age,name='Ушедшие', marker_color='#ff668c'))\n",
    "fig.add_trace(go.Histogram(x=customer_Age,name='Активные', marker_color='#6666ff'))\n",
    "fig.update_yaxes(type=\"log\", range=[0,4]) \n",
    "fig.show()\n"
   ]
  },
  {
   "cell_type": "markdown",
   "metadata": {},
   "source": [
    "Основные активные клиенты в возрасет от 22 до 46 лет, и более 70 лет. Возраст ушедших клиентов смещен в сторону 35-60 лет. Меньше всего уходит клиентов в возрасте до 28 лет и более 61. Наблюдаются сильные выбросы, 22 и 24 года, среди ушедших, возможно связано с окончанием обучения и началом работы. Так же сильный всплеск наблюдается 70-71 год, это скорей всего связано с средней продолжительностью жизни. "
   ]
  },
  {
   "cell_type": "markdown",
   "metadata": {},
   "source": [
    "5. Постройте график, который показывает взаимосвязь кредитного рейтинга клиента и его предполагаемой зарплаты. Добавьте расцветку по признаку оттока клиентов. Какова взаимосвязь между признаками? Если не видите явной взаимосвязи, укажите это."
   ]
  },
  {
   "cell_type": "code",
   "execution_count": null,
   "metadata": {},
   "outputs": [],
   "source": [
    "exited = churn_data[churn_data['Exited']==1]\n",
    "customer = churn_data[churn_data['Exited']==0]\n",
    "\n",
    "\n",
    "fig = go.Figure(layout_title_text=\"Зависимость кредитного рейтинга и предпологаемой зарплаты среди 'активных' и 'ушедших' клиентов\")\n",
    "fig.add_trace(go.Scatter(mode=\"markers\", y=customer['CreditScore'], x=customer['EstimatedSalary'],name='Активные', marker_color='#6666ff'))\n",
    "fig.add_trace(go.Scatter(mode=\"markers\", y=exited['CreditScore'], x=exited['EstimatedSalary'],name='Ушедшие', marker_color='#ff668c'))\n",
    "fig.update_xaxes(type=\"log\", range=[2,5.4]) \n",
    "\n",
    "fig.show()"
   ]
  },
  {
   "cell_type": "markdown",
   "metadata": {},
   "source": [
    "Для ушедших клиентов размер предпологаемой зарплаты не зависит от \"активности\" пользователя, в то время как для ушедших пользователей кредитный рейтинг чуть ниже."
   ]
  },
  {
   "cell_type": "markdown",
   "metadata": {},
   "source": [
    "6. Кто чаще уходит, мужчины или женщины?"
   ]
  },
  {
   "cell_type": "code",
   "execution_count": null,
   "metadata": {},
   "outputs": [],
   "source": [
    "gender_exited = churn_data.groupby('Gender', as_index=False)['Exited'].mean()\n",
    "\n",
    "fig = go.Figure(layout_title_text=\"Соотношение ушедших и лояльных клиентов в разрезе пола\")\n",
    "\n",
    "fig.add_trace(go.Bar(x=gender_exited['Gender'],y=gender_exited['Exited']))\n",
    "\n",
    "fig.show()\n"
   ]
  },
  {
   "cell_type": "markdown",
   "metadata": {},
   "source": [
    "Чаще уходят мужчины (25% мужчины / 16% женщины)"
   ]
  },
  {
   "cell_type": "markdown",
   "metadata": {},
   "source": [
    "7. Как отток клиентов зависит от числа приобретённых у банка услуг? Для ответа на этот вопрос постройте многоуровневую столбчатую диаграмму."
   ]
  },
  {
   "cell_type": "code",
   "execution_count": null,
   "metadata": {},
   "outputs": [],
   "source": [
    "exited = churn_data[churn_data['Exited']==1]\n",
    "customer = churn_data[churn_data['Exited']==0]\n",
    "\n",
    "NumOfProducts_Exited = exited.groupby(['NumOfProducts', 'Exited'], as_index=False).count()\n",
    "NumOfProducts_Customer = customer.groupby(['NumOfProducts', 'Exited'], as_index=False).count()\n",
    "\n",
    "fig = go.Figure(layout_title_text=\"Соотношение ушедших и лольяных клиентов в зависимости от числа услуг\")\n",
    "x = list(range(1,churn_data['NumOfProducts'].nunique()+1))\n",
    "\n",
    "fig.add_trace(go.Bar(x=x,y=NumOfProducts_Customer['RowNumber'],name='Активные', marker_color='#6666ff'))\n",
    "fig.add_trace(go.Bar(x=x,y=NumOfProducts_Exited['RowNumber'],name='Ушедшие', marker_color='#ff668c'))\n",
    "\n",
    "fig.update_layout(barmode=\"relative\")\n",
    "\n",
    "fig.show()\n"
   ]
  },
  {
   "cell_type": "markdown",
   "metadata": {},
   "source": [
    "Меньше всего уходят пользователи которые пользуются 2мя услугами, те кто пользуется 3 и 4 услугами уходят чаще всего. Стоит уделить внимание пользователям которые имеют только 1 активный продукт и предлагать им дополнительную услугу"
   ]
  },
  {
   "cell_type": "markdown",
   "metadata": {},
   "source": [
    "8. Как влияет наличие статуса активного клиента на отток клиентов? Постройте диаграмму, иллюстрирующую это. Что бы вы предложили банку, чтобы уменьшить отток клиентов среди неактивных?"
   ]
  },
  {
   "cell_type": "code",
   "execution_count": null,
   "metadata": {},
   "outputs": [],
   "source": [
    "IsActiveMember_exited = churn_data.groupby(['IsActiveMember','Exited'], as_index=False).count()\n",
    "\n",
    "exited = churn_data[churn_data['Exited']==1]\n",
    "customer = churn_data[churn_data['Exited']==0]\n",
    "\n",
    "IsActiveMember_Exited = exited.groupby(['IsActiveMember', 'Exited'], as_index=False).count()\n",
    "IsActiveMember_Customer = customer.groupby(['IsActiveMember', 'Exited'], as_index=False).count()\n",
    "\n",
    "fig = go.Figure(layout_title_text=\"Соотношение ушедших и лольяных клиентов в зависимости от статуса активности\")\n",
    "fig.add_trace(go.Bar(x=IsActiveMember_Customer['IsActiveMember'],y=IsActiveMember_Customer['RowNumber'],name='Активные', marker_color='#6666ff'))\n",
    "fig.add_trace(go.Bar(x=IsActiveMember_Exited['IsActiveMember'],y=IsActiveMember_Exited['RowNumber'],name='Ушедшие', marker_color='#ff668c'))\n",
    "\n",
    "fig.update_layout(barmode=\"relative\")\n",
    "\n",
    "fig.show()\n"
   ]
  },
  {
   "cell_type": "markdown",
   "metadata": {},
   "source": [
    "Неактивные клиенты чаще уходят. Возможно стоит разработать меры по увеличению активности (бонусы или же \"ачивки\" за активность)"
   ]
  },
  {
   "cell_type": "markdown",
   "metadata": {},
   "source": [
    "9. В какой стране доля ушедших клиентов больше? Постройте тепловую картограмму, которая покажет это соотношение на карте мира. Предположите, с чем это может быть связано."
   ]
  },
  {
   "cell_type": "code",
   "execution_count": null,
   "metadata": {},
   "outputs": [],
   "source": [
    "Geography = churn_data.groupby(['Geography'],as_index=False).mean()\n",
    "fig = go.Figure(layout_title_text=\"Отток клиентов по странам\")\n",
    "fig.add_trace(go.Choropleth(\n",
    "    z = Geography['Exited'],\n",
    "    locationmode=\"country names\",\n",
    "    locations = Geography['Geography'],\n",
    "    ))\n",
    "fig.show()\n"
   ]
  },
  {
   "cell_type": "markdown",
   "metadata": {},
   "source": [
    "Наибольший отток наблюдается в Германии (32%). Для Испании и Франции процент оттока одинаковый(~16%)), скорей всего связано или с особыми условиями для жителей этой страны или внутренние особености страны."
   ]
  },
  {
   "cell_type": "code",
   "execution_count": null,
   "metadata": {},
   "outputs": [],
   "source": [
    "def get_credit_score_cat(credit_score):\n",
    "    if credit_score >= 300 and credit_score < 500:\n",
    "        return \"Very_Poor\"\n",
    "    elif credit_score >= 500 and credit_score < 601:\n",
    "        return \"Poor\"\n",
    "    elif credit_score >= 601 and credit_score < 661:\n",
    "        return \"Fair\"\n",
    "    elif credit_score >= 661 and credit_score < 781:\n",
    "        return \"Good\"\n",
    "    elif credit_score >= 781 and credit_score < 851:\n",
    "        return \"Excellent\"\n",
    "    elif credit_score >= 851:\n",
    "        return \"Top\"\n",
    "    elif credit_score < 300:\n",
    "        return \"Deep\"\n",
    "churn_data['CreditScore'] = churn_data['CreditScore'].apply(get_credit_score_cat).astype('category')\n"
   ]
  },
  {
   "cell_type": "code",
   "execution_count": null,
   "metadata": {},
   "outputs": [],
   "source": [
    "pivot = churn_data.pivot_table(\n",
    "    values='Exited',\n",
    "    columns='Tenure',\n",
    "    index='CreditScore'\n",
    ")\n",
    "def df_to_plotly(df):\n",
    "    return {'z': df.values.tolist(),\n",
    "            'x': df.columns.tolist(),\n",
    "            'y': df.index.tolist()}\n",
    "\n",
    "fig = go.Figure(layout_title_text=\"Вероятность оттока на основании кредитного рейтинга и срока обслуживания\", data=go.Heatmap(df_to_plotly(pivot)))\n",
    "fig.show()"
   ]
  },
  {
   "cell_type": "markdown",
   "metadata": {},
   "source": [
    "Чаще всего уходят пользователи с самым низким кредитным рейтингом. Максимальнй отток в первый год обслуживания, далее идёт 10 год обслуживания с самым низким рейтингом. \n",
    "Так же чаещ обычного уходят пользователи с самым высоким рейтингом в первый год обслуживания и после 8 лет сотрудничества.\n",
    "Пользователи с рейтингами \"Poor\",\"Good\",\"Fair\" наиболее лояльны, и с повышением срока обслуживания - лояльность растёт.\n",
    "Наблюдаются аномально низкие проценты отказов для \"Very_Poor\" пользователей на 2 и 5 года обслуживания, похожая аномалия есть для \"Excellent\" на 2,4 и 7 годах обслуживания"
   ]
  }
 ],
 "metadata": {
  "interpreter": {
   "hash": "aee8b7b246df8f9039afb4144a1f6fd8d2ca17a180786b69acc140d282b71a49"
  },
  "kernelspec": {
   "display_name": "Python 3.10.0 64-bit",
   "language": "python",
   "name": "python3"
  },
  "language_info": {
   "codemirror_mode": {
    "name": "ipython",
    "version": 3
   },
   "file_extension": ".py",
   "mimetype": "text/x-python",
   "name": "python",
   "nbconvert_exporter": "python",
   "pygments_lexer": "ipython3",
   "version": "3.9.7"
  },
  "orig_nbformat": 4
 },
 "nbformat": 4,
 "nbformat_minor": 2
}
